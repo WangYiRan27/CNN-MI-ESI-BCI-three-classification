{
 "cells": [
  {
   "cell_type": "code",
   "execution_count": null,
   "id": "5916b830",
   "metadata": {},
   "outputs": [],
   "source": [
    "# from tensorflow.compat.v1 import ConfigProto\n",
    "# from tensorflow.compat.v1 import InteractiveSession\n",
    "\n",
    "# config = ConfigProto()\n",
    "# config.gpu_options.allow_growth = True\n",
    "# session = InteractiveSession(config=config)\n"
   ]
  },
  {
   "cell_type": "code",
   "execution_count": null,
   "id": "de9331b5",
   "metadata": {},
   "outputs": [],
   "source": [
    "# import tensorflow as tf\n",
    "# import tensorflow.keras  \n",
    "# from keras.backend.tensorflow_backend import set_session\n",
    "# config = tf.ConfigProto()  \n",
    "# config.gpu_options.allow_growth = True \n",
    "# sess = tf.Session(config=config)\n",
    "# set_session(sess)\n",
    "# keras.backend.clear_session() #清理session"
   ]
  },
  {
   "cell_type": "code",
   "execution_count": 1,
   "id": "ce615292",
   "metadata": {},
   "outputs": [
    {
     "data": {
      "application/vnd.jupyter.widget-view+json": {
       "model_id": "71dd5647fc754753a42ee8dd0a80d82a",
       "version_major": 2,
       "version_minor": 0
      },
      "text/plain": [
       "  0%|          | 0/100 [00:00<?, ?it/s]"
      ]
     },
     "metadata": {},
     "output_type": "display_data"
    }
   ],
   "source": [
    "from tqdm.notebook import tqdm\n",
    "from time import sleep\n",
    "\n",
    "for i in tqdm(range(100)):\n",
    "    sleep(0.01)\n"
   ]
  },
  {
   "cell_type": "code",
   "execution_count": 1,
   "id": "1f037cc4",
   "metadata": {},
   "outputs": [],
   "source": [
    "import os\n",
    "\n",
    "os.environ['CUDA_VISIBLE_DEVICES'] = '/gpu:0'\n"
   ]
  },
  {
   "cell_type": "code",
   "execution_count": 2,
   "id": "95d0ba2a",
   "metadata": {},
   "outputs": [],
   "source": [
    "import os\n",
    "os.environ[\"KMP_DUPLICATE_LIB_OK\"]=\"TRUE\"\n",
    "# 网上提到该设置可能有其他风险"
   ]
  },
  {
   "cell_type": "code",
   "execution_count": 3,
   "id": "5ebdeee7",
   "metadata": {},
   "outputs": [],
   "source": [
    "import tensorflow as tf"
   ]
  },
  {
   "cell_type": "code",
   "execution_count": 4,
   "id": "352cdb0c",
   "metadata": {},
   "outputs": [
    {
     "data": {
      "text/plain": [
       "'1.15.0'"
      ]
     },
     "execution_count": 4,
     "metadata": {},
     "output_type": "execute_result"
    }
   ],
   "source": [
    "import tensorflow as tf\n",
    "\n",
    "tf.__version__"
   ]
  },
  {
   "cell_type": "code",
   "execution_count": 5,
   "id": "5d65ef7b",
   "metadata": {},
   "outputs": [
    {
     "name": "stdout",
     "output_type": "stream",
     "text": [
      "[name: \"/device:CPU:0\"\n",
      "device_type: \"CPU\"\n",
      "memory_limit: 268435456\n",
      "locality {\n",
      "}\n",
      "incarnation: 12081540089237977208\n",
      "]\n"
     ]
    }
   ],
   "source": [
    "import os\n",
    "from tensorflow.python.client import device_lib\n",
    "os.environ[\"TF_CPP_MIN_LOG_LEVEL\"] = \"99\"\n",
    " \n",
    "if __name__ == \"__main__\":\n",
    "    print(device_lib.list_local_devices())"
   ]
  },
  {
   "cell_type": "code",
   "execution_count": 6,
   "id": "f5744e81",
   "metadata": {},
   "outputs": [],
   "source": [
    "# -*- coding: utf-8 -*-\n",
    "\n",
    "#Hide the Configuration配置 and Warning\n",
    "import os\n",
    "os.environ[\"TF_CPP_MIN_LOG_LEVEL\"] = '3'"
   ]
  },
  {
   "cell_type": "code",
   "execution_count": 7,
   "id": "4d1ca590",
   "metadata": {},
   "outputs": [],
   "source": [
    "# Import the Used Packages: Numpy, Pandas, and Tensorflow\n",
    "import pandas as pd\n",
    "import numpy as np\n",
    "import tensorflow as tf\n",
    "import random\n",
    "import matplotlib.pyplot as plt\n",
    "tf.compat.v1.reset_default_graph()\n",
    "\n",
    "# Clear the Stack\n",
    "tf.reset_default_graph()"
   ]
  },
  {
   "cell_type": "code",
   "execution_count": 8,
   "id": "b4fe2622",
   "metadata": {},
   "outputs": [],
   "source": [
    "# The Location of train_data，train_labels，test_data，test_labels 训练数据、标签，测试数据、标签的位置\n",
    "# DataSet Address数据集地址 K:/Google_Driver/EEG_Features_For_Multi_class_Motor_Imagery/EEG_Test_Raw_Data/Changed_Excel_Data/\n",
    "DIR = 'Data/'\n",
    "\n",
    "# Model Saver Addressm模型存放地址 K:/Google_Driver/EEG_Features_For_Multi_class_Motor_Imagery/EEG_Test_Raw_Data/First_Try_Model/\n",
    "SAVE = 'Model/'\n",
    "\n",
    "# Activate a Session激活会话\n",
    "sess = tf.InteractiveSession()"
   ]
  },
  {
   "cell_type": "code",
   "execution_count": 9,
   "id": "aaba1932",
   "metadata": {},
   "outputs": [
    {
     "name": "stdout",
     "output_type": "stream",
     "text": [
      "(2689, 560)\n"
     ]
    }
   ],
   "source": [
    "# 分类数和时间\n",
    "n_class=3\n",
    "n_time=560\n",
    "\n",
    "# Read Training Data 读取训练数据\n",
    "train_data = pd.read_csv(DIR + 'Training_data.csv', header=None, index_col=0)\n",
    "train_data = np.array(train_data).astype('float32')\n",
    "print(train_data.shape)"
   ]
  },
  {
   "cell_type": "code",
   "execution_count": 10,
   "id": "d8843dea",
   "metadata": {},
   "outputs": [
    {
     "name": "stdout",
     "output_type": "stream",
     "text": [
      "(2689, 3)\n"
     ]
    }
   ],
   "source": [
    "# Read Training Labels 读取训练标签\n",
    "train_labels = pd.read_csv(DIR + 'Training_labels.csv', header=None, index_col=0)\n",
    "train_labels = np.array(train_labels)\n",
    "print(train_labels.shape)"
   ]
  },
  {
   "cell_type": "code",
   "execution_count": 11,
   "id": "e140f299",
   "metadata": {},
   "outputs": [
    {
     "name": "stdout",
     "output_type": "stream",
     "text": [
      "(1152, 560)\n"
     ]
    }
   ],
   "source": [
    "# Read Testing Data 读取测试数据\n",
    "test_data = pd.read_csv(DIR + 'Test_data.csv', header=None, index_col=0)\n",
    "test_data = np.array(test_data).astype('float32')\n",
    "print(test_data.shape)"
   ]
  },
  {
   "cell_type": "code",
   "execution_count": 12,
   "id": "ed84ad8f",
   "metadata": {},
   "outputs": [
    {
     "name": "stdout",
     "output_type": "stream",
     "text": [
      "(1152, 3)\n"
     ]
    }
   ],
   "source": [
    "# Read Testing Labels 读取测试标签\n",
    "test_labels = pd.read_csv(DIR + 'Test_labels.csv', header=None, index_col=0)\n",
    "test_labels = np.array(test_labels)\n",
    "print(test_labels.shape)"
   ]
  },
  {
   "cell_type": "code",
   "execution_count": 13,
   "id": "068290f0",
   "metadata": {},
   "outputs": [],
   "source": [
    "# Set Batch Size 64 将batch大小设置为64\n",
    "batch_size = 64\n",
    "n_batch = train_data.shape[0] // batch_size"
   ]
  },
  {
   "cell_type": "code",
   "execution_count": 14,
   "id": "f7784adb",
   "metadata": {},
   "outputs": [],
   "source": [
    "# Initialize the Weights 初始化权重\n",
    "def weight_variable(shape):\n",
    "    initial = tf.truncated_normal(shape, stddev=0.01)\n",
    "    return tf.Variable(initial)"
   ]
  },
  {
   "cell_type": "code",
   "execution_count": 15,
   "id": "e68841ed",
   "metadata": {},
   "outputs": [],
   "source": [
    "# Initialize the Bias 初始化偏差\n",
    "def bias_variable(shape):\n",
    "    initial = tf.constant(0.01, shape=shape)\n",
    "    return tf.Variable(initial)"
   ]
  },
  {
   "cell_type": "code",
   "execution_count": 16,
   "id": "f5d173ef",
   "metadata": {},
   "outputs": [],
   "source": [
    "# Define the Function of Summary 定义summary的功能\n",
    "def variable_summaries(var):\n",
    "    with tf.name_scope('summaries'):\n",
    "        mean = tf.reduce_mean(var)\n",
    "        tf.summary.scalar('mean', mean)\n",
    "\n",
    "        with tf.name_scope('stddev'):\n",
    "            stddev = tf.sqrt(tf.reduce_mean(tf.square(var - mean)))\n",
    "            tf.summary.scalar('stddev', stddev)\n",
    "\n",
    "        tf.summary.scalar('max', tf.reduce_max(var))\n",
    "        tf.summary.scalar('min', tf.reduce_min(var))\n",
    "        tf.summary.histogram('histogram', var)\n",
    "        #scalar标量；histogram柱状图"
   ]
  },
  {
   "cell_type": "code",
   "execution_count": 17,
   "id": "bbc10325",
   "metadata": {},
   "outputs": [],
   "source": [
    "# Define Placeholders 定义占位符\n",
    "with tf.name_scope(\"Input\"):\n",
    "    # x is the input feature data  x是输入特征数据\n",
    "    with tf.name_scope(\"Input_Data\"):\n",
    "        x = tf.placeholder(tf.float32, [None, n_time])       ##修改  640  ？\n",
    "\n",
    "    # y is the label related to the data y是数据标签\n",
    "    with tf.name_scope(\"Labels\"):\n",
    "        y = tf.placeholder(tf.float32, [None, n_class])         #####  4？\n",
    "\n",
    "    # Keep_Prob is the possibility that keep neural while using dropout 使用dropout保持神经功能，，概率\n",
    "    with tf.name_scope(\"Keep_Prob\"):\n",
    "        keep_prob = tf.placeholder(tf.float32)\n",
    "\n",
    "    # Reshape the input data into 2-dimensional  将输入数据重塑为2维\n",
    "    with tf.name_scope(\"Reshape_Data\"):\n",
    "        x_Reshape = tf.reshape(tensor=x, shape=[-1, 28, 20, 1])  #[-1, 32, 20, 1]\n",
    "        #tensor张量"
   ]
  },
  {
   "cell_type": "markdown",
   "id": "ee465746",
   "metadata": {},
   "source": [
    "卷积神经网络CNN 包含6个卷积层，两个最大池化层，两个全连接层。优点：省略特征提取步骤，直接输入经过预处理的数据，能够从大量数据中学习到高维特征。"
   ]
  },
  {
   "cell_type": "markdown",
   "id": "13c235d3",
   "metadata": {},
   "source": [
    "数据集大小为[6460,560],训练与测试按照7:3的比例划分，[2689,1152], 560时间戳看做28×20的一张图片，一个样本大小是28×20×1，batch为64，使用的标签集已经处理过，原数据集每个时间戳都有标签，现已将事件戳标签合并为一个，改为每个通道一个标签，并处理为独热码，输出为3个类别，静息、左手、右手，最终大小为[6460,3]。使用adam优化器。"
   ]
  },
  {
   "cell_type": "code",
   "execution_count": 18,
   "id": "863df66b",
   "metadata": {},
   "outputs": [
    {
     "name": "stdout",
     "output_type": "stream",
     "text": [
      "WARNING:tensorflow:From <ipython-input-18-e7457af9548a>:22: calling dropout (from tensorflow.python.ops.nn_ops) with keep_prob is deprecated and will be removed in a future version.\n",
      "Instructions for updating:\n",
      "Please use `rate` instead of `keep_prob`. Rate should be set to `rate = 1 - keep_prob`.\n"
     ]
    }
   ],
   "source": [
    "# First Convolutional Layer 第一卷积层\n",
    "with tf.name_scope('Convolutional_1'):\n",
    "    with tf.name_scope('W_conv1'):\n",
    "        W_conv1 = weight_variable([3, 3, 1, 32])   #[3, 3, 1, 32]    权重\n",
    "        # variable_summaries(W_conv1)\n",
    "\n",
    "    with tf.name_scope('b_conv1'):\n",
    "        b_conv1 = bias_variable([32])       #([32])    偏差\n",
    "        # variable_summaries(b_conv1)\n",
    "\n",
    "    with tf.name_scope('h_conv1'):\n",
    "        h_conv1 = tf.nn.conv2d(x_Reshape, W_conv1, strides=[1, 1, 1, 1], padding='SAME') + b_conv1    #大小 28*20*32\n",
    "        #strides 步长；；padding填充覆盖。\n",
    "        # variable_summaries(h_conv1)\n",
    "\n",
    "    with tf.name_scope('h_conv1_Acti'):\n",
    "        h_conv1_Acti = tf.nn.leaky_relu(h_conv1)\n",
    "        #leaky 有漏洞的\n",
    "        # variable_summaries(h_conv1_Acti)\n",
    "\n",
    "    with tf.name_scope('h_conv1_drop'):\n",
    "        h_conv1_drop = tf.nn.dropout(h_conv1_Acti, keep_prob, noise_shape=[tf.shape(h_conv1_Acti)[0], 1, 1, tf.shape(h_conv1_Acti)[3]])\n",
    "        # variable_summaries(h_conv1_drop)\n"
   ]
  },
  {
   "cell_type": "code",
   "execution_count": 19,
   "id": "63c69bbb",
   "metadata": {},
   "outputs": [
    {
     "name": "stdout",
     "output_type": "stream",
     "text": [
      "WARNING:tensorflow:From <ipython-input-19-191e06ec989d>:16: batch_normalization (from tensorflow.python.layers.normalization) is deprecated and will be removed in a future version.\n",
      "Instructions for updating:\n",
      "Use keras.layers.BatchNormalization instead.  In particular, `tf.control_dependencies(tf.GraphKeys.UPDATE_OPS)` should not be used (consult the `tf.keras.layers.batch_normalization` documentation).\n",
      "WARNING:tensorflow:From D:\\ANACONDA\\envs\\tensorflow1150\\lib\\site-packages\\tensorflow_core\\python\\layers\\normalization.py:327: Layer.apply (from tensorflow.python.keras.engine.base_layer) is deprecated and will be removed in a future version.\n",
      "Instructions for updating:\n",
      "Please use `layer.__call__` method instead.\n"
     ]
    }
   ],
   "source": [
    "# Second Convolutional Layer 第二卷积层\n",
    "with tf.name_scope('Convolutional_2'):\n",
    "    with tf.name_scope('W_conv2'):\n",
    "        W_conv2 = weight_variable([3, 3, 32, 32])  #\n",
    "        # variable_summaries(W_conv2)\n",
    "\n",
    "    with tf.name_scope('b_conv2'):\n",
    "        b_conv2 = bias_variable([32])\n",
    "        # variable_summaries(b_conv2)\n",
    "\n",
    "    with tf.name_scope('h_conv2'):\n",
    "        h_conv2 = tf.nn.conv2d(h_conv1_drop, W_conv2, strides=[1, 1, 1, 1], padding='SAME') + b_conv2   #大小 28*20*32\n",
    "        # variable_summaries(h_conv2)\n",
    "\n",
    "    with tf.name_scope('h_conv2_BN'):\n",
    "        h_conv2_BN = tf.layers.batch_normalization(h_conv2, training=True)\n",
    "        # variable_summaries(h_conv2_BN)\n",
    "\n",
    "    with tf.name_scope('h_conv2_Acti'):\n",
    "        h_conv2_Acti = tf.nn.leaky_relu(h_conv2_BN)\n",
    "        # variable_summaries(h_conv2_Acti)"
   ]
  },
  {
   "cell_type": "code",
   "execution_count": 20,
   "id": "a73b1464",
   "metadata": {},
   "outputs": [],
   "source": [
    "# Third Convolutional Layer 第三卷积层\n",
    "with tf.name_scope('Convolutional_3'):\n",
    "    with tf.name_scope('W_conv3'):\n",
    "        W_conv3 = weight_variable([3, 3, 64, 64])  #28*20*64\n",
    "        # variable_summaries(W_conv3)\n",
    "\n",
    "    with tf.name_scope('b_conv3'):\n",
    "        b_conv3 = bias_variable([64])\n",
    "        # variable_summaries(b_conv3)\n",
    "\n",
    "    with tf.name_scope('h_conv3_res'):\n",
    "        h_conv3_res = tf.concat([h_conv2_Acti, h_conv1_drop], axis=3)\n",
    "        # variable_summaries(h_conv3_res)\n",
    "\n",
    "    with tf.name_scope('h_conv3'):\n",
    "        h_conv3 = tf.nn.conv2d(h_conv3_res, W_conv3, strides=[1, 1, 1, 1], padding='SAME') + b_conv3   #28*20*64\n",
    "        # variable_summaries(h_conv3)\n",
    "\n",
    "    with tf.name_scope('h_conv3_Acti'):\n",
    "        h_conv3_Acti = tf.nn.leaky_relu(h_conv3)\n",
    "        # variable_summaries(h_conv3_Acti)\n",
    "\n",
    "    with tf.name_scope('h_pool3_drop'):\n",
    "        h_conv3_drop = tf.nn.dropout(h_conv3_Acti, keep_prob, noise_shape=[tf.shape(h_conv3_Acti)[0], 1, 1, tf.shape(h_conv3_Acti)[3]])\n",
    "        # variable_summaries(h_conv3_drop)\n"
   ]
  },
  {
   "cell_type": "code",
   "execution_count": 21,
   "id": "db222b3c",
   "metadata": {},
   "outputs": [],
   "source": [
    "# First Max Pooling Layer 第一最大池化层\n",
    "with tf.name_scope('Pooling_1'):\n",
    "    with tf.name_scope('h_pool3'):\n",
    "        h_pool3 = tf.nn.max_pool(h_conv3_drop, ksize=[1, 2, 2, 1], strides=[1, 2, 2, 1], padding='SAME')   #14*10*64\n",
    "        # variable_summaries(h_pool3)"
   ]
  },
  {
   "cell_type": "code",
   "execution_count": 22,
   "id": "8265c303",
   "metadata": {},
   "outputs": [],
   "source": [
    "# Fourth Convolutional Layer 第四卷积层\n",
    "with tf.name_scope('Convolutional_4'):\n",
    "    with tf.name_scope('W_conv4'):\n",
    "        W_conv4 = weight_variable([3, 3, 64, 64])\n",
    "        # variable_summaries(W_conv4)\n",
    "\n",
    "    with tf.name_scope('b_conv4'):\n",
    "        b_conv4 = bias_variable([64])\n",
    "        # variable_summaries(b_conv4)\n",
    "\n",
    "    with tf.name_scope('h_conv4'):\n",
    "        h_conv4 = tf.nn.conv2d(h_pool3, W_conv4, strides=[1, 1, 1, 1], padding='VALID') + b_conv4    #12*8*64\n",
    "        # variable_summaries(h_conv4)\n",
    "\n",
    "    with tf.name_scope('h_conv4_BN'):\n",
    "        h_conv4_BN = tf.layers.batch_normalization(h_conv4, training=True)\n",
    "        # variable_summaries(h_conv4_BN)\n",
    "\n",
    "    with tf.name_scope('h_conv4_Acti'):\n",
    "        h_conv4_Acti = tf.nn.leaky_relu(h_conv4_BN)\n",
    "        # variable_summaries(h_conv4_Acti)\n",
    "\n",
    "    with tf.name_scope('h_conv4_drop'):\n",
    "        h_conv4_drop = tf.nn.dropout(h_conv4_Acti, keep_prob, noise_shape=[tf.shape(h_conv4_Acti)[0], 1, 1, tf.shape(h_conv4_Acti)[3]])\n",
    "        # variable_summaries(h_conv4_drop)"
   ]
  },
  {
   "cell_type": "code",
   "execution_count": 23,
   "id": "d98105c4",
   "metadata": {},
   "outputs": [],
   "source": [
    "# Fifth Convolutional Layer 第五卷积层\n",
    "with tf.name_scope('Convolutional_5'):\n",
    "    with tf.name_scope('W_conv5'):\n",
    "        W_conv5 = weight_variable([3, 3, 64, 64])\n",
    "        # variable_summaries(W_conv5)\n",
    "\n",
    "    with tf.name_scope('b_conv5'):\n",
    "        b_conv5 = bias_variable([64])\n",
    "        # variable_summaries(b_conv5)\n",
    "\n",
    "    with tf.name_scope('h_conv5'):\n",
    "        h_conv5 = tf.nn.conv2d(h_conv4_drop, W_conv5, strides=[1, 1, 1, 1], padding='SAME') + b_conv5      #12*8*64\n",
    "        # variable_summaries(h_conv5)\n",
    "\n",
    "    with tf.name_scope('h_conv5_BN'):\n",
    "        h_conv5_BN = tf.layers.batch_normalization(h_conv5, training=True)\n",
    "        # variable_summaries(h_conv5_BN)\n",
    "\n",
    "    with tf.name_scope('h_conv5_Acti'):\n",
    "        h_conv5_Acti = tf.nn.leaky_relu(h_conv5_BN)\n",
    "        # variable_summaries(h_conv5_Acti)"
   ]
  },
  {
   "cell_type": "code",
   "execution_count": 24,
   "id": "87d1df83",
   "metadata": {},
   "outputs": [],
   "source": [
    "# Sixth Convolutional Layer 第六卷积层\n",
    "with tf.name_scope('Convolutional_6'):\n",
    "    with tf.name_scope('W_conv6'):\n",
    "        W_conv6 = weight_variable([3, 3, 128, 128])         #12*8*128\n",
    "        # variable_summaries(W_conv6)\n",
    "\n",
    "    with tf.name_scope('b_conv6'):\n",
    "        b_conv6 = bias_variable([128])\n",
    "        # variable_summaries(b_conv6)\n",
    "\n",
    "    with tf.name_scope('h_conv6_res'):\n",
    "        h_conv6_res = tf.concat([h_conv5_Acti, h_conv4_drop], axis=3)\n",
    "        # variable_summaries(h_conv6_res)\n",
    "\n",
    "    with tf.name_scope('h_conv6'):\n",
    "        h_conv6 = tf.nn.conv2d(h_conv6_res, W_conv6, strides=[1, 1, 1, 1], padding='SAME') + b_conv6        #12*8*128\n",
    "        # variable_summaries(h_conv6)\n",
    "\n",
    "    with tf.name_scope('h_conv6_Activation'):\n",
    "        h_conv6_Acti = tf.nn.leaky_relu(h_conv6)\n",
    "        # variable_summaries(h_conv6_Acti)\n",
    "\n",
    "    with tf.name_scope('h_pool6_drop'):\n",
    "        h_conv6_drop = tf.nn.dropout(h_conv6_Acti, keep_prob, noise_shape=[tf.shape(h_conv6_Acti)[0], 1, 1, tf.shape(h_conv6_Acti)[3]])\n",
    "        # variable_summaries(h_conv6_drop)"
   ]
  },
  {
   "cell_type": "code",
   "execution_count": 25,
   "id": "88a48acc",
   "metadata": {},
   "outputs": [],
   "source": [
    "# Second Max Pooling Layer 第二最大池化层\n",
    "with tf.name_scope('Pooling_2'):\n",
    "    with tf.name_scope('h_pool6'):\n",
    "        h_pool6 = tf.nn.max_pool(h_conv6_drop, ksize=[1, 2, 2, 1], strides=[1, 2, 2, 1], padding='SAME')      #6*4*128\n",
    "        # variable_summaries(h_pool6)"
   ]
  },
  {
   "cell_type": "code",
   "execution_count": 26,
   "id": "be29dc1b",
   "metadata": {},
   "outputs": [],
   "source": [
    "# Flatten Layer压平\n",
    "with tf.name_scope('Flatten'): \n",
    "    with tf.name_scope('h_pool6_flat'):\n",
    "        h_pool6_flat = tf.reshape(h_pool6, [-1, 6 * 4 * 128])  #-1, 4 * 7 * 128\n",
    "        # variable_summaries(h_pool6_flat)\n",
    "        \n",
    "#Convolution卷积层之后是无法直接连接Dense全连接层的，需要把Convolution层的数据压平（Flatten），然后就可以直接加Dense层了。\n",
    "#也就是把 (height,width,channel)的数据压缩成长度为 height × width × channel 的一维数组，然后再与 FC层连接，这之后就跟普通的神经网络无异了。"
   ]
  },
  {
   "cell_type": "code",
   "execution_count": 27,
   "id": "bccf5802",
   "metadata": {},
   "outputs": [],
   "source": [
    "# First Fully Connected Layer 第一全连接层\n",
    "with tf.name_scope('Fully_Connected_1'):\n",
    "    with tf.name_scope('W_fc1'):\n",
    "        W_fc1 = weight_variable([4 * 6 * 128, 512])    # [4 * 7 * 128, 512]\n",
    "        # variable_summaries(W_fc1)\n",
    "\n",
    "    with tf.name_scope('b_fc1'):\n",
    "        b_fc1 = bias_variable([512])\n",
    "        # variable_summaries(b_fc1)\n",
    "\n",
    "    with tf.name_scope('h_fc1'):\n",
    "        h_fc1 = tf.matmul(h_pool6_flat, W_fc1) + b_fc1\n",
    "        # variable_summaries(h_fc1)\n",
    "\n",
    "    with tf.name_scope('h_fc1_BN'):\n",
    "        h_fc1_BN = tf.layers.batch_normalization(h_fc1, training=True)\n",
    "        # variable_summaries(h_fc1_BN)\n",
    "\n",
    "    with tf.name_scope('h_fc1_Acti'):\n",
    "        h_fc1_Acti = tf.nn.leaky_relu(h_fc1_BN)\n",
    "        # variable_summaries(h_fc1_Acti)\n",
    "\n",
    "    with tf.name_scope('h_fc1_drop'):\n",
    "        h_fc1_drop = tf.nn.dropout(h_fc1_Acti, keep_prob)\n",
    "        # variable_summaries(h_fc1_drop)"
   ]
  },
  {
   "cell_type": "code",
   "execution_count": 28,
   "id": "56b8012e",
   "metadata": {},
   "outputs": [],
   "source": [
    "# Second Fully Connected Layer 第二全连接层\n",
    "with tf.name_scope('Output_Layer'):\n",
    "    with tf.name_scope('W_fc2'):\n",
    "        W_fc2 = weight_variable([512, 3])  #gai 512, 4\n",
    "        # variable_summaries(W_fc2)\n",
    "\n",
    "    with tf.name_scope('b_fc2'):\n",
    "        b_fc2 = bias_variable([3])   #[4] gai\n",
    "        # variable_summaries(b_fc2)\n",
    "\n",
    "    with tf.name_scope('prediction'):\n",
    "        prediction = tf.nn.softmax(tf.matmul(h_fc1_drop, W_fc2) + b_fc2)\n",
    "        # variable_summaries(prediction)\n",
    "        #预测"
   ]
  },
  {
   "cell_type": "code",
   "execution_count": 29,
   "id": "8adb1dd9",
   "metadata": {},
   "outputs": [],
   "source": [
    "# Define Loss Function 定义损失函数\n",
    "with tf.name_scope('loss'):\n",
    "    with tf.name_scope('Euclidean_Distance'):\n",
    "        loss = tf.reduce_mean(tf.square(y - prediction))\n",
    "        tf.summary.scalar('loss', loss)"
   ]
  },
  {
   "cell_type": "code",
   "execution_count": 30,
   "id": "cd53fe2a",
   "metadata": {},
   "outputs": [],
   "source": [
    "# Define Training Optimizer 定义训练优化器Adam\n",
    "with tf.name_scope('Train_Optimizer'):\n",
    "    train_step = tf.train.AdamOptimizer(1e-5).minimize(loss)"
   ]
  },
  {
   "cell_type": "markdown",
   "id": "f84c3344",
   "metadata": {},
   "source": [
    "四个任务：\n",
    "① 目标出现在屏幕的左侧或右侧。受试者打开和握紧相应的手，直到目标消失，然后受试者放松。\n",
    "② 目标出现在屏幕的左侧或右侧。受试者想象张开和握紧相应的手，直到目标消失，然后受试者放松。\n",
    "③ 目标出现在屏幕的顶部或底部。受试者打开或握紧两只手(如果目标在顶部)，直到目标消失。然后受试者放松。\n",
    "④ 目标出现在屏幕的顶部或底部。受试者想象打开和握紧两只手(如果目标在顶部)，直到目标消失。然后受试者放松。\n",
    "本次实验中，我们选择一个测试者S01的两次测试一共六十个任务，每个任务有4秒的时间，采样频率为160次/秒，采集64个通道的数据。测试者的状态包括T0：静息态，T1：想象左手松开/握紧，T2：想象右手松开/握紧。"
   ]
  },
  {
   "cell_type": "markdown",
   "id": "c9b7a9f2",
   "metadata": {},
   "source": [
    "本实验使用accuracy, recall, precision，F-score四个指标对模型性能进行评估。"
   ]
  },
  {
   "cell_type": "markdown",
   "id": "b3ccfd9b",
   "metadata": {},
   "source": [
    "准确率（accuracy）, 所有的预测正确（正类负类）的占总的比重，准确率越高，意味着模型整体的预测准确程度；"
   ]
  },
  {
   "cell_type": "markdown",
   "id": "205d0855",
   "metadata": {},
   "source": [
    "精确率（也叫查准率，precision), 即正确预测为正的占全部预测为正的比例，（真正正确的占所有预测为正的比例），精确率越高，意味着正样本中预测准确度越高；"
   ]
  },
  {
   "cell_type": "markdown",
   "id": "60690e40",
   "metadata": {},
   "source": [
    "召回率（recall）, 即正确预测为正的占全部实际为正的比例（真正正确的占所有实际为正的比例）；"
   ]
  },
  {
   "cell_type": "markdown",
   "id": "f3eebd5b",
   "metadata": {},
   "source": [
    "F-score值，F1值为算数平均数除以几何平均数，且越大越好，将Precision和Recall的上述公式带入会发现，当F1-score值小时，True Positive相对增加，而false相对减少，即Precision和Recall都相对增加，即F1-score对Precision和Recall都进行了加权。一般来说准确率和召回率呈负相关，一个高，一个就低，如果两个都低，一定是有问题的。一般来说，精确度和召回率之间是矛盾的，这里引入F1-Score作为综合指标，就是为了平衡准确率和召回率的影响，较为全面地评价一个分类器。"
   ]
  },
  {
   "attachments": {
    "image.png": {
     "image/png": "[encoded data removed]"
    }
   },
   "cell_type": "markdown",
   "id": "e9fcd517",
   "metadata": {},
   "source": [
    "![image.png](attachment:image.png)"
   ]
  },
  {
   "attachments": {
    "image.png": {
     "image/png": "[encoded data removed]"
    }
   },
   "cell_type": "markdown",
   "id": "4449747f",
   "metadata": {},
   "source": [
    "![image.png](attachment:image.png)"
   ]
  },
  {
   "cell_type": "code",
   "execution_count": 31,
   "id": "17e22c7e",
   "metadata": {},
   "outputs": [],
   "source": [
    "# Calculate Accuracy 计算准确率\n",
    "# Add metrics to TensorBoard. 添加指标\n",
    "with tf.name_scope('Evalution'):\n",
    "    # Calculate Each Task Accuracy计算每个任务的准确率\n",
    "    with tf.name_scope('Each_Class_accuracy'):\n",
    "        # Task 1 Accuracy 任务1的准确率\n",
    "        with tf.name_scope('T1_accuracy'):\n",
    "            # Number of Classified Correctly 分类正确的数量\n",
    "            y_T1 = tf.equal(tf.argmax(y, 1), 0)\n",
    "            prediction_T1 = tf.equal(tf.argmax(prediction, 1), 0)\n",
    "            T1_Corrected_Num = tf.reduce_sum(tf.cast(tf.math.logical_and(y_T1, prediction_T1), tf.float32))\n",
    "\n",
    "            # Number of All the Test Samples  所有测试样本的数量\n",
    "            T1_all_Num = tf.reduce_sum(tf.cast(y_T1, tf.float32))\n",
    "\n",
    "            # Task 1 Accuracy 任务1的准确率\n",
    "            T1_accuracy = tf.divide(T1_Corrected_Num, T1_all_Num)\n",
    "            tf.summary.scalar('T1_accuracy', T1_accuracy)\n",
    "\n",
    "            T1_TP = T1_Corrected_Num\n",
    "            T1_TN = tf.reduce_sum(tf.cast(tf.math.logical_and(tf.math.logical_not(y_T1), tf.math.logical_not(prediction_T1)), tf.float32))\n",
    "            T1_FP = tf.reduce_sum(tf.cast(tf.math.logical_and(tf.math.logical_not(y_T1), prediction_T1), tf.float32))\n",
    "            T1_FN = tf.reduce_sum(tf.cast(tf.math.logical_and(y_T1, tf.math.logical_not(prediction_T1)), tf.float32))\n",
    "            #TP 真阳性\n",
    "            #FP 伪阳性\n",
    "            #TN 真阴性\n",
    "            #FN 伪阴性\n",
    "\n",
    "            with tf.name_scope(\"T1_Precision\"):\n",
    "                T1_Precision = T1_TP / (T1_TP + T1_FP)\n",
    "                tf.summary.scalar('T1_Precision', T1_Precision)\n",
    "\n",
    "            with tf.name_scope(\"T1_Recall\"):\n",
    "                T1_Recall = T1_TP / (T1_TP + T1_FN)\n",
    "                tf.summary.scalar('T1_Recall', T1_Recall)\n",
    "\n",
    "            with tf.name_scope(\"T1_F_Score\"):\n",
    "                T1_F_Score = (2*T1_Precision*T1_Recall)/(T1_Precision+T1_Recall)\n",
    "                tf.summary.scalar('T1_F_Score', T1_F_Score)"
   ]
  },
  {
   "cell_type": "code",
   "execution_count": 32,
   "id": "7ad3d9a0",
   "metadata": {},
   "outputs": [],
   "source": [
    " # Task 2 Accuracy 任务2的准确率\n",
    "        with tf.name_scope('T2_accuracy'):\n",
    "            # Number of Classified Correctly 分类正确的数量\n",
    "            y_T2 = tf.equal(tf.argmax(y, 1), 1)\n",
    "            prediction_T2 = tf.equal(tf.argmax(prediction, 1), 1)\n",
    "            T2_Corrected_Num = tf.reduce_sum(tf.cast(tf.math.logical_and(y_T2, prediction_T2), tf.float32))\n",
    "\n",
    "            # Number of All the Test Samples 所有测试样本的数量\n",
    "            T2_all_Num = tf.reduce_sum(tf.cast(y_T2, tf.float32))\n",
    "\n",
    "            # Task 2 Accuracy 任务2的准确率\n",
    "            T2_accuracy = tf.divide(T2_Corrected_Num, T2_all_Num)\n",
    "            tf.summary.scalar('T2_accuracy', T2_accuracy)\n",
    "\n",
    "            T2_TP = T2_Corrected_Num\n",
    "            T2_TN = tf.reduce_sum(tf.cast(tf.math.logical_and(tf.math.logical_not(y_T2), tf.math.logical_not(prediction_T2)), tf.float32))\n",
    "            T2_FP = tf.reduce_sum(tf.cast(tf.math.logical_and(tf.math.logical_not(y_T2), prediction_T2), tf.float32))\n",
    "            T2_FN = tf.reduce_sum(tf.cast(tf.math.logical_and(y_T2, tf.math.logical_not(prediction_T2)), tf.float32))\n",
    "\n",
    "            with tf.name_scope(\"T2_Precision\"):\n",
    "                T2_Precision = T2_TP / (T2_TP + T2_FP)\n",
    "                tf.summary.scalar('T2_Precision', T2_Precision)\n",
    "\n",
    "            with tf.name_scope(\"T2_Recall\"):\n",
    "                T2_Recall = T2_TP / (T2_TP + T2_FN)\n",
    "                tf.summary.scalar('T2_Recall', T2_Recall)\n",
    "\n",
    "            with tf.name_scope(\"T2_F_Score\"):\n",
    "                T2_F_Score = (2*T2_Precision*T2_Recall)/(T2_Precision+T2_Recall)\n",
    "                tf.summary.scalar('T2_F_Score', T2_F_Score)"
   ]
  },
  {
   "cell_type": "code",
   "execution_count": 33,
   "id": "6e176ba1",
   "metadata": {},
   "outputs": [],
   "source": [
    " # Task 3 Accuracy\n",
    "        with tf.name_scope('T3_accuracy'):\n",
    "            # Number of Classified Correctly\n",
    "            y_T3 = tf.equal(tf.argmax(y, 1), 2)\n",
    "            prediction_T3 = tf.equal(tf.argmax(prediction, 1), 2)\n",
    "            T3_Corrected_Num = tf.reduce_sum(tf.cast(tf.math.logical_and(y_T3, prediction_T3), tf.float32))\n",
    "\n",
    "            # Number of All the Test Samples\n",
    "            T3_all_Num = tf.reduce_sum(tf.cast(y_T3, tf.float32))\n",
    "\n",
    "            # Task 3 Accuracy\n",
    "            T3_accuracy = tf.divide(T3_Corrected_Num, T3_all_Num)\n",
    "            tf.summary.scalar('T3_accuracy', T3_accuracy)\n",
    "\n",
    "            T3_TP = T3_Corrected_Num\n",
    "            T3_TN = tf.reduce_sum(tf.cast(tf.math.logical_and(tf.math.logical_not(y_T3), tf.math.logical_not(prediction_T3)), tf.float32))\n",
    "            T3_FP = tf.reduce_sum(tf.cast(tf.math.logical_and(tf.math.logical_not(y_T3), prediction_T3), tf.float32))\n",
    "            T3_FN = tf.reduce_sum(tf.cast(tf.math.logical_and(y_T3, tf.math.logical_not(prediction_T3)), tf.float32))\n",
    "\n",
    "            with tf.name_scope(\"T3_Precision\"):\n",
    "                T3_Precision = T3_TP / (T3_TP + T3_FP)\n",
    "                tf.summary.scalar('T3_Precision', T3_Precision)\n",
    "\n",
    "            with tf.name_scope(\"T3_Recall\"):\n",
    "                T3_Recall = T3_TP / (T3_TP + T3_FN)\n",
    "                tf.summary.scalar('T3_Recall', T3_Recall)\n",
    "\n",
    "            with tf.name_scope(\"T3_F_Score\"):\n",
    "                T3_F_Score = (2*T3_Precision*T3_Recall)/(T3_Precision+T3_Recall)\n",
    "                tf.summary.scalar('T3_F_Score', T3_F_Score)"
   ]
  },
  {
   "cell_type": "code",
   "execution_count": null,
   "id": "5cf450f7",
   "metadata": {},
   "outputs": [],
   "source": [
    " # Task 4 Accuracy\n",
    "        # with tf.name_scope('T4_accuracy'):\n",
    "        #     # Number of Classified Correctly\n",
    "        #     y_T4 = tf.equal(tf.argmax(y, 1), 3)\n",
    "        #     prediction_T4 = tf.equal(tf.argmax(prediction, 1), 3)\n",
    "        #     T4_Corrected_Num = tf.reduce_sum(tf.cast(tf.math.logical_and(y_T4, prediction_T4), tf.float32))\n",
    "        #\n",
    "        #     # Number of All the Test Samples\n",
    "        #     T4_all_Num = tf.reduce_sum(tf.cast(y_T4, tf.float32))\n",
    "        #\n",
    "        #     # Task 4 Accuracy\n",
    "        #     T4_accuracy = tf.divide(T4_Corrected_Num, T4_all_Num)\n",
    "        #     tf.summary.scalar('T4_accuracy', T4_accuracy)\n",
    "        #\n",
    "        #     T4_TP = T4_Corrected_Num\n",
    "        #     T4_TN = tf.reduce_sum(tf.cast(tf.math.logical_and(tf.math.logical_not(y_T4), tf.math.logical_not(prediction_T4)), tf.float32))\n",
    "        #     T4_FP = tf.reduce_sum(tf.cast(tf.math.logical_and(tf.math.logical_not(y_T4), prediction_T4), tf.float32))\n",
    "        #     T4_FN = tf.reduce_sum(tf.cast(tf.math.logical_and(y_T4, tf.math.logical_not(prediction_T4)), tf.float32))\n",
    "        #\n",
    "        #     with tf.name_scope(\"T4_Precision\"):\n",
    "        #         T4_Precision = T4_TP / (T4_TP + T4_FP)\n",
    "        #         tf.summary.scalar('T4_Precision', T4_Precision)\n",
    "        #\n",
    "        #     with tf.name_scope(\"T4_Recall\"):\n",
    "        #         T4_Recall = T4_TP / (T4_TP + T4_FN)\n",
    "        #         tf.summary.scalar('T4_Recall', T4_Recall)\n",
    "        #\n",
    "        #     with tf.name_scope(\"T4_F_Score\"):\n",
    "        #         T4_F_Score = (2*T4_Precision*T4_Recall)/(T4_Precision+T4_Recall)\n",
    "        #         tf.summary.scalar('T4_F_Score', T4_F_Score)"
   ]
  },
  {
   "cell_type": "code",
   "execution_count": 34,
   "id": "e35e476b",
   "metadata": {},
   "outputs": [],
   "source": [
    " # Calculate the Confusion Matrix 计算混淆矩阵\n",
    "    with tf.name_scope(\"Confusion_Matrix\"):\n",
    "        with tf.name_scope(\"T1_Label\"):\n",
    "            T1_T1 = T1_Corrected_Num\n",
    "            T1_T2 = tf.reduce_sum(tf.cast(tf.math.logical_and(y_T1, prediction_T2), tf.float32))\n",
    "            T1_T3 = tf.reduce_sum(tf.cast(tf.math.logical_and(y_T1, prediction_T3), tf.float32))\n",
    "            # T1_T4 = tf.reduce_sum(tf.cast(tf.math.logical_and(y_T1, prediction_T4), tf.float32))\n",
    "\n",
    "            T1_T1_percent = tf.divide(T1_T1, T1_all_Num)\n",
    "            T1_T2_percent = tf.divide(T1_T2, T1_all_Num)\n",
    "            T1_T3_percent = tf.divide(T1_T3, T1_all_Num)\n",
    "            # T1_T4_percent = tf.divide(T1_T4, T1_all_Num)\n",
    "\n",
    "            tf.summary.scalar('T1_T1_percent', T1_T1_percent)\n",
    "            tf.summary.scalar('T1_T2_percent', T1_T2_percent)\n",
    "            tf.summary.scalar('T1_T3_percent', T1_T3_percent)\n",
    "            # tf.summary.scalar('T1_T4_percent', T1_T4_percent)\n",
    "\n",
    "        with tf.name_scope(\"T2_Label\"):\n",
    "            T2_T1 = tf.reduce_sum(tf.cast(tf.math.logical_and(y_T2, prediction_T1), tf.float32))\n",
    "            T2_T2 = T2_Corrected_Num\n",
    "            T2_T3 = tf.reduce_sum(tf.cast(tf.math.logical_and(y_T2, prediction_T3), tf.float32))\n",
    "            # T2_T4 = tf.reduce_sum(tf.cast(tf.math.logical_and(y_T2, prediction_T4), tf.float32))\n",
    "\n",
    "            T2_T1_percent = tf.divide(T2_T1, T2_all_Num)\n",
    "            T2_T2_percent = tf.divide(T2_T2, T2_all_Num)\n",
    "            T2_T3_percent = tf.divide(T2_T3, T2_all_Num)\n",
    "            # T2_T4_percent = tf.divide(T2_T4, T2_all_Num)\n",
    "\n",
    "            tf.summary.scalar('T2_T1_percent', T2_T1_percent)\n",
    "            tf.summary.scalar('T2_T2_percent', T2_T2_percent)\n",
    "            tf.summary.scalar('T2_T3_percent', T2_T3_percent)\n",
    "            # tf.summary.scalar('T2_T4_percent', T2_T4_percent)\n",
    "\n",
    "        with tf.name_scope(\"T3_Label\"):\n",
    "            T3_T1 = tf.reduce_sum(tf.cast(tf.math.logical_and(y_T3, prediction_T1), tf.float32))\n",
    "            T3_T2 = tf.reduce_sum(tf.cast(tf.math.logical_and(y_T3, prediction_T2), tf.float32))\n",
    "            T3_T3 = T3_Corrected_Num\n",
    "            # T3_T4 = tf.reduce_sum(tf.cast(tf.math.logical_and(y_T3, prediction_T4), tf.float32))\n",
    "\n",
    "            T3_T1_percent = tf.divide(T3_T1, T3_all_Num)\n",
    "            T3_T2_percent = tf.divide(T3_T2, T3_all_Num)\n",
    "            T3_T3_percent = tf.divide(T3_T3, T3_all_Num)\n",
    "            # T3_T4_percent = tf.divide(T3_T4, T3_all_Num)\n",
    "\n",
    "            tf.summary.scalar('T3_T1_percent', T3_T1_percent)\n",
    "            tf.summary.scalar('T3_T2_percent', T3_T2_percent)\n",
    "            tf.summary.scalar('T3_T3_percent', T3_T3_percent)\n",
    "            # tf.summary.scalar('T3_T4_percent', T3_T4_percent)"
   ]
  },
  {
   "cell_type": "code",
   "execution_count": null,
   "id": "b3060b64",
   "metadata": {},
   "outputs": [],
   "source": [
    "   # with tf.name_scope(\"T4_Label\"):\n",
    "        #     T4_T1 = tf.reduce_sum(tf.cast(tf.math.logical_and(y_T4, prediction_T1), tf.float32))\n",
    "        #     T4_T2 = tf.reduce_sum(tf.cast(tf.math.logical_and(y_T4, prediction_T2), tf.float32))\n",
    "        #     T4_T3 = tf.reduce_sum(tf.cast(tf.math.logical_and(y_T4, prediction_T3), tf.float32))\n",
    "        #     T4_T4 = T4_Corrected_Num\n",
    "        #\n",
    "        #     T4_T1_percent = tf.divide(T4_T1, T4_all_Num)\n",
    "        #     T4_T2_percent = tf.divide(T4_T2, T4_all_Num)\n",
    "        #     T4_T3_percent = tf.divide(T4_T3, T4_all_Num)\n",
    "        #     T4_T4_percent = tf.divide(T4_T4, T4_all_Num)\n",
    "        #\n",
    "        #     tf.summary.scalar('T4_T1_percent', T4_T1_percent)\n",
    "        #     tf.summary.scalar('T4_T2_percent', T4_T2_percent)\n",
    "        #     tf.summary.scalar('T4_T3_percent', T4_T3_percent)\n",
    "        #     tf.summary.scalar('T4_T4_percent', T4_T4_percent)"
   ]
  },
  {
   "cell_type": "code",
   "execution_count": 35,
   "id": "e682bfcf",
   "metadata": {},
   "outputs": [],
   "source": [
    "  with tf.name_scope('Global_Evalution_Metrics'):\n",
    "        # Global Average Accuracy - Simple Algorithm 全局平均精度-简单算法\n",
    "        with tf.name_scope('Global_Average_Accuracy'):\n",
    "            correct_prediction = tf.equal(tf.argmax(prediction, 1), tf.argmax(y, 1))\n",
    "            Global_Average_Accuracy = tf.reduce_mean(tf.cast(correct_prediction, tf.float32))\n",
    "            tf.summary.scalar('Global_Average_Accuracy', Global_Average_Accuracy)\n",
    "\n",
    "        with tf.name_scope('Kappa_Metric'):\n",
    "            Test_Set_Num = T1_all_Num + T2_all_Num + T3_all_Num   # T4_all_Num\n",
    "\n",
    "            Actual_T1 = T1_all_Num\n",
    "            Actual_T2 = T2_all_Num\n",
    "            Actual_T3 = T3_all_Num\n",
    "            # Actual_T4 = T4_all_Num\n",
    "\n",
    "            Prediction_T1 = T1_T1 + T2_T1 + T3_T1    #T1_T1 + T2_T1 + T3_T1 + T4_T1\n",
    "            Prediction_T2 = T1_T2 + T2_T2 + T3_T2     #T1_T2 + T2_T2 + T3_T2 + T4_T2\n",
    "            Prediction_T3 = T1_T3 + T2_T3 + T3_T3    #T1_T3 + T2_T3 + T3_T3 + T4_T3\n",
    "            # Prediction_T4 = T1_T4 + T2_T4 + T3_T4 + T4_T4\n",
    "\n",
    "            p0 = (T1_T1 + T2_T2 + T3_T3) / Test_Set_Num   #(T1_T1 + T2_T2 + T3_T3 + T4_T4) / Test_Set_Num\n",
    "            pe = (Actual_T1*Prediction_T1 + Actual_T2*Prediction_T2 + Actual_T3*Prediction_T3) / \\\n",
    "                 (Test_Set_Num*Test_Set_Num)   #(Actual_T1*Prediction_T1 + Actual_T2*Prediction_T2 + Actual_T3*Prediction\n",
    "                                               # _T3 + Actual_T4*Prediction_T4)\n",
    "\n",
    "            Kappa_Metric = (p0 - pe) / (1 - pe)\n",
    "            tf.summary.scalar('Kappa_Metric', Kappa_Metric)\n",
    "\n",
    "        with tf.name_scope('Micro_Averaged_Evalution'):\n",
    "            with tf.name_scope(\"Micro_Averaged_Confusion_Matrix\"):\n",
    "                TP_all = T1_TP + T2_TP + T3_TP       #T1_TP + T2_TP + T3_TP + T4_TP\n",
    "                TN_all = T1_TN + T2_TN + T3_TN   #T1_TN + T2_TN + T3_TN + T4_TN\n",
    "                FP_all = T1_FP + T2_FP + T3_FP     #T1_FP + T2_FP + T3_FP + T4_FP\n",
    "                FN_all = T1_FN + T2_FN + T3_FN      #T1_FN + T2_FN + T3_FN + T4_FN\n",
    "\n",
    "            with tf.name_scope(\"Micro_Global_Precision\"):\n",
    "                Micro_Global_Precision = TP_all / (TP_all + FP_all)\n",
    "                tf.summary.scalar('Micro_Global_Precision', Micro_Global_Precision)\n",
    "\n",
    "            with tf.name_scope(\"Micro_Global_Recall\"):\n",
    "                Micro_Global_Recall = TP_all / (TP_all + FN_all)\n",
    "                tf.summary.scalar('Micro_Global_Recall', Micro_Global_Recall)\n",
    "\n",
    "            with tf.name_scope(\"Micro_Global_F1_Score\"):\n",
    "                Micro_Global_F1_Score = (2*Micro_Global_Precision*Micro_Global_Recall)/(Micro_Global_Precision+Micro_Global_Recall)\n",
    "                tf.summary.scalar('Micro_Global_F1_Score', Micro_Global_F1_Score)\n",
    "\n",
    "        with tf.name_scope('Macro_Averaged_Evalution'):\n",
    "            with tf.name_scope(\"Macro_Global_Precision\"):\n",
    "                Macro_Global_Precision = (T1_Precision + T2_Precision + T3_Precision) / 3\n",
    "                #(T1_Precision + T2_Precision + T3_Precision + T4_Precision) / 4\n",
    "                tf.summary.scalar('Macro_Global_Precision', Macro_Global_Precision)\n",
    "\n",
    "            with tf.name_scope(\"Macro_Global_Recall\"):\n",
    "                Macro_Global_Recall = (T1_Recall + T2_Recall + T3_Recall) / 3\n",
    "                #T1_Recall + T2_Recall + T3_Recall + T4_Recall\n",
    "                tf.summary.scalar('Macro_Global_Recall', Macro_Global_Recall)\n",
    "\n",
    "            with tf.name_scope(\"Macro_Global_F1_Score\"):\n",
    "                Macro_Global_F1_Score = (T1_F_Score + T2_F_Score + T3_F_Score) / 3\n",
    "                #(T1_F_Score + T2_F_Score + T3_F_Score + T4_F_Score) / 4\n",
    "                tf.summary.scalar('Macro_Global_F1_Score', Macro_Global_F1_Score)"
   ]
  },
  {
   "cell_type": "code",
   "execution_count": null,
   "id": "91dc6721",
   "metadata": {},
   "outputs": [],
   "source": [
    "# import tensorflow as tf\n",
    "# import tensorflow.keras  \n",
    "# from keras.backend.tensorflow_backend import set_session\n",
    "# config = tf.ConfigProto()  \n",
    "# config.gpu_options.allow_growth = True \n",
    "# sess = tf.Session(config=config)\n",
    "# set_session(sess)\n",
    "# keras.backend.clear_session() #清理session"
   ]
  },
  {
   "cell_type": "markdown",
   "id": "5dd67636",
   "metadata": {},
   "source": [
    "Failed to get convolution algorithm. This is probably because cuDNN failed to initialize, so try looking to see if a warning log message was printed above.\n",
    "无法获取卷积算法。这可能是因为cuDNN未能初始化，所以请尝试查看上面是否打印了警告日志消息。\n",
    "开头开启的用来限制显存的session由于没有清理，用keras里的clear_session()清理一下session就OK了。"
   ]
  },
  {
   "cell_type": "code",
   "execution_count": 38,
   "id": "678df95b",
   "metadata": {},
   "outputs": [],
   "source": [
    "# Merge all the summaries #合并所有摘要\n",
    "merged = tf.summary.merge_all()\n",
    "\n",
    "# Initialize all the variables 初始化所有变量\n",
    "sess.run(tf.global_variables_initializer())\n",
    "\n",
    "# Start a saver to save the trained model 启动一个保存程序来保存经过训练的模型\n",
    "saver = tf.train.Saver()\n",
    "\n",
    "# Summary the Training and Test Processing 总结训练和测试过程\n",
    "train_writer = tf.summary.FileWriter(SAVE + 'train_Writer', sess.graph)\n",
    "test_writer  = tf.summary.FileWriter(SAVE + 'test_Writer')\n",
    "\n",
    "loss_his=[]\n",
    "acc_his=[]\n",
    "for epoch in range(501):\n",
    "    for batch_index in range(n_batch):\n",
    "        random_batch = random.sample(range(train_data.shape[0]), batch_size)\n",
    "        batch_xs = train_data[random_batch]\n",
    "        batch_ys = train_labels[random_batch]\n",
    "        sess.run(train_step, feed_dict={x: batch_xs, y: batch_ys, keep_prob: 0.50})"
   ]
  },
  {
   "cell_type": "markdown",
   "id": "db2b9985",
   "metadata": {},
   "source": [
    "缩进错误：意外缩进。解决办法：if及之前顶格。"
   ]
  },
  {
   "cell_type": "code",
   "execution_count": 54,
   "id": "f9135526",
   "metadata": {},
   "outputs": [
    {
     "name": "stdout",
     "output_type": "stream",
     "text": [
      "Iter500,Training Accuracy: 0.99070287, Trainging Loss: 0.0066016554\n",
      "accuracy= 0.99070287\n"
     ]
    }
   ],
   "source": [
    " # Accuracy on Training Set 训练集的准确率\n",
    "train_acc, train_loss = sess.run([Global_Average_Accuracy, loss], feed_dict={x: train_data, y: train_labels, keep_prob: 0.5})\n",
    "loss_his.append(train_loss)\n",
    "acc_his.append(train_acc)\n",
    "if epoch%10==0:\n",
    "    print(\"Iter\"+str(epoch)+\",Training Accuracy: \" + str(train_acc) + \", Trainging Loss: \" + str(train_loss))\n",
    "    print('accuracy=',train_acc)"
   ]
  },
  {
   "cell_type": "code",
   "execution_count": 55,
   "id": "926b05e2",
   "metadata": {},
   "outputs": [
    {
     "name": "stdout",
     "output_type": "stream",
     "text": [
      "test_loss= 0.033565164 ,test_accuracy= 0.9331597\n"
     ]
    }
   ],
   "source": [
    " # Accuracy on Test Set 测试集的准确率\n",
    "    test_summary, test_acc, test_loss = sess.run([merged, Global_Average_Accuracy, loss], feed_dict={x: test_data, y: test_labels, keep_prob: 0.5})\n",
    "    test_writer.add_summary(test_summary, epoch)\n",
    "    print('test_loss=',test_loss,',test_accuracy=',test_acc)"
   ]
  },
  {
   "cell_type": "code",
   "execution_count": null,
   "id": "997a0af1",
   "metadata": {},
   "outputs": [],
   "source": [
    "  # Show the Model Capability 展示模型能力\n",
    "    # print(\"Iter \" + str(epoch) + \", Training Accuracy: \" + str(train_acc) + \", Testing Accuracy: \" + str(test_acc))\n"
   ]
  },
  {
   "cell_type": "code",
   "execution_count": 57,
   "id": "18a44afd",
   "metadata": {},
   "outputs": [],
   "source": [
    "  # Save the Model Every 500 Epoches\n",
    "if epoch % 100 == 0:\n",
    "        saver.save(sess, save_path=SAVE + 'Model_Saver/Ite_%s' % epoch)\n",
    "\n",
    "    # if epoch == 200:\n",
    "    #     output_prediction = sess.run(prediction, feed_dict={x: test_data, y: test_labels, keep_prob: 1.0})\n",
    "    #     np.savetxt(SAVE + \"prediction.csv\", output_prediction, delimiter=\",\")\n",
    "    #     np.savetxt(SAVE + \"labels.csv\", int(test_labels), delimiter=\",\")\n",
    "train_writer.close()\n",
    "test_writer.close()\n",
    "sess.close()"
   ]
  },
  {
   "cell_type": "code",
   "execution_count": 58,
   "id": "d541b34b",
   "metadata": {},
   "outputs": [
    {
     "data": {
      "image/png": "[encoded data removed]",
      "text/plain": [
       "<Figure size 432x288 with 1 Axes>"
      ]
     },
     "metadata": {
      "needs_background": "light"
     },
     "output_type": "display_data"
    },
    {
     "data": {
      "image/png": "[encoded data removed]",
      "text/plain": [
       "<Figure size 432x288 with 1 Axes>"
      ]
     },
     "metadata": {
      "needs_background": "light"
     },
     "output_type": "display_data"
    }
   ],
   "source": [
    "#画图\n",
    "x1=range(len(loss_his))\n",
    "y1=loss_his\n",
    "x2=range(len(acc_his))\n",
    "y2=acc_his\n",
    "\n",
    "plt.figure(1)\n",
    "plt.plot(x1,y1)\n",
    "plt.title('train loss')\n",
    "plt.xlabel('epoch')\n",
    "plt.ylabel('loss')\n",
    "\n",
    "plt.figure(2)\n",
    "plt.plot(x2,y2)\n",
    "plt.title('train accuracy')\n",
    "plt.xlabel('epoch')\n",
    "plt.ylabel('accuracy')\n",
    "\n",
    "plt.show()"
   ]
  },
  {
   "cell_type": "code",
   "execution_count": null,
   "id": "2a42f6fc",
   "metadata": {},
   "outputs": [],
   "source": []
  },
  {
   "cell_type": "code",
   "execution_count": null,
   "id": "bf957333",
   "metadata": {},
   "outputs": [],
   "source": []
  }
 ],
 "metadata": {
  "kernelspec": {
   "display_name": "Python(tensorflowenv)",
   "language": "python",
   "name": "tensorflowenv"
  },
  "language_info": {
   "codemirror_mode": {
    "name": "ipython",
    "version": 3
   },
   "file_extension": ".py",
   "mimetype": "text/x-python",
   "name": "python",
   "nbconvert_exporter": "python",
   "pygments_lexer": "ipython3",
   "version": "3.6.13"
  }
 },
 "nbformat": 4,
 "nbformat_minor": 5
}
